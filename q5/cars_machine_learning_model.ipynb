{
 "cells": [
  {
   "cell_type": "code",
   "execution_count": 1,
   "id": "1a3d1ad3",
   "metadata": {},
   "outputs": [],
   "source": [
    "#Import libraries\n",
    "import os\n",
    "import pandas as pd\n",
    "import numpy as np\n",
    "import matplotlib.pyplot as plt\n",
    "from matplotlib import style\n",
    "import seaborn as sns\n",
    "from sklearn.model_selection import train_test_split\n",
    "from sklearn.linear_model import LinearRegression\n",
    "from sklearn.metrics import confusion_matrix\n",
    "from sklearn.metrics import r2_score\n",
    "from sklearn.metrics import mean_squared_error\n",
    "import warnings\n",
    "warnings.simplefilter(action=\"ignore\", category=FutureWarning)"
   ]
  },
  {
   "cell_type": "code",
   "execution_count": 2,
   "id": "0f0f18d1",
   "metadata": {},
   "outputs": [],
   "source": [
    "#Set global variables\n",
    "fpath = \"/Users/chuying/Documents/dataeng_assessment/q5/\""
   ]
  },
  {
   "cell_type": "code",
   "execution_count": 3,
   "id": "2ecadbe5",
   "metadata": {},
   "outputs": [
    {
     "name": "stdout",
     "output_type": "stream",
     "text": [
      "Current working dir:  /Users/chuying/Documents/dataeng_assessment/q5\n"
     ]
    }
   ],
   "source": [
    "#Change the current working directory\n",
    "os.chdir(fpath)\n",
    "print(\"Current working dir: \", os.getcwd())"
   ]
  },
  {
   "cell_type": "code",
   "execution_count": 4,
   "id": "31383c36",
   "metadata": {},
   "outputs": [
    {
     "name": "stdout",
     "output_type": "stream",
     "text": [
      "     buying  maint  doors persons lug_boot safety car_class\n",
      "0     vhigh  vhigh      2       2    small    low     unacc\n",
      "1     vhigh  vhigh      2       2    small    med     unacc\n",
      "2     vhigh  vhigh      2       2    small   high     unacc\n",
      "3     vhigh  vhigh      2       2      med    low     unacc\n",
      "4     vhigh  vhigh      2       2      med    med     unacc\n",
      "...     ...    ...    ...     ...      ...    ...       ...\n",
      "1723    low    low  5more    more      med    med      good\n",
      "1724    low    low  5more    more      med   high     vgood\n",
      "1725    low    low  5more    more      big    low     unacc\n",
      "1726    low    low  5more    more      big    med      good\n",
      "1727    low    low  5more    more      big   high     vgood\n",
      "\n",
      "[1728 rows x 7 columns]\n"
     ]
    }
   ],
   "source": [
    "#Read data files\n",
    "cars =  pd.read_csv('car.data', sep=\",\")\n",
    "print(cars)"
   ]
  },
  {
   "cell_type": "code",
   "execution_count": 5,
   "id": "a657e891",
   "metadata": {},
   "outputs": [],
   "source": [
    "## Step 1: Business Understanding\n",
    "# Create a machine learning model to predict the buying price given the following parameters:\n",
    "\n",
    "# Maintenance = High\n",
    "# Number of doors = 4\n",
    "# Lug Boot Size = Big\n",
    "# Safety = High\n",
    "# Class Value = Good"
   ]
  },
  {
   "cell_type": "code",
   "execution_count": 6,
   "id": "68935492",
   "metadata": {},
   "outputs": [],
   "source": [
    "#Step 2: Data Understanding\n",
    "#2.1 Data is structured\n",
    "#2.2 Entity of interest - Buying Price\n",
    "#2.3 1 row  = 1 record\n",
    "#2.4 1 column = 1 field\n",
    "#2.5 Yes, there is a data column to identify my event\n",
    "#2.6 Categorise my variables - all are categorical variables\n",
    "#Training model : Log regression"
   ]
  },
  {
   "cell_type": "code",
   "execution_count": 7,
   "id": "2f853cda",
   "metadata": {},
   "outputs": [
    {
     "name": "stdout",
     "output_type": "stream",
     "text": [
      "<class 'pandas.core.frame.DataFrame'>\n",
      "RangeIndex: 1728 entries, 0 to 1727\n",
      "Data columns (total 7 columns):\n",
      " #   Column     Non-Null Count  Dtype \n",
      "---  ------     --------------  ----- \n",
      " 0   buying     1728 non-null   object\n",
      " 1   maint      1728 non-null   object\n",
      " 2   doors      1728 non-null   object\n",
      " 3   persons    1728 non-null   object\n",
      " 4   lug_boot   1728 non-null   object\n",
      " 5   safety     1728 non-null   object\n",
      " 6   car_class  1728 non-null   object\n",
      "dtypes: object(7)\n",
      "memory usage: 94.6+ KB\n"
     ]
    }
   ],
   "source": [
    "cars.info()"
   ]
  },
  {
   "cell_type": "code",
   "execution_count": 8,
   "id": "b9d6b61b",
   "metadata": {},
   "outputs": [
    {
     "data": {
      "text/html": [
       "<div>\n",
       "<style scoped>\n",
       "    .dataframe tbody tr th:only-of-type {\n",
       "        vertical-align: middle;\n",
       "    }\n",
       "\n",
       "    .dataframe tbody tr th {\n",
       "        vertical-align: top;\n",
       "    }\n",
       "\n",
       "    .dataframe thead th {\n",
       "        text-align: right;\n",
       "    }\n",
       "</style>\n",
       "<table border=\"1\" class=\"dataframe\">\n",
       "  <thead>\n",
       "    <tr style=\"text-align: right;\">\n",
       "      <th></th>\n",
       "      <th>buying</th>\n",
       "      <th>maint</th>\n",
       "      <th>doors</th>\n",
       "      <th>persons</th>\n",
       "      <th>lug_boot</th>\n",
       "      <th>safety</th>\n",
       "      <th>car_class</th>\n",
       "    </tr>\n",
       "  </thead>\n",
       "  <tbody>\n",
       "    <tr>\n",
       "      <th>0</th>\n",
       "      <td>vhigh</td>\n",
       "      <td>vhigh</td>\n",
       "      <td>2</td>\n",
       "      <td>2</td>\n",
       "      <td>small</td>\n",
       "      <td>low</td>\n",
       "      <td>unacc</td>\n",
       "    </tr>\n",
       "    <tr>\n",
       "      <th>1</th>\n",
       "      <td>vhigh</td>\n",
       "      <td>vhigh</td>\n",
       "      <td>2</td>\n",
       "      <td>2</td>\n",
       "      <td>small</td>\n",
       "      <td>med</td>\n",
       "      <td>unacc</td>\n",
       "    </tr>\n",
       "    <tr>\n",
       "      <th>2</th>\n",
       "      <td>vhigh</td>\n",
       "      <td>vhigh</td>\n",
       "      <td>2</td>\n",
       "      <td>2</td>\n",
       "      <td>small</td>\n",
       "      <td>high</td>\n",
       "      <td>unacc</td>\n",
       "    </tr>\n",
       "    <tr>\n",
       "      <th>3</th>\n",
       "      <td>vhigh</td>\n",
       "      <td>vhigh</td>\n",
       "      <td>2</td>\n",
       "      <td>2</td>\n",
       "      <td>med</td>\n",
       "      <td>low</td>\n",
       "      <td>unacc</td>\n",
       "    </tr>\n",
       "    <tr>\n",
       "      <th>4</th>\n",
       "      <td>vhigh</td>\n",
       "      <td>vhigh</td>\n",
       "      <td>2</td>\n",
       "      <td>2</td>\n",
       "      <td>med</td>\n",
       "      <td>med</td>\n",
       "      <td>unacc</td>\n",
       "    </tr>\n",
       "  </tbody>\n",
       "</table>\n",
       "</div>"
      ],
      "text/plain": [
       "  buying  maint doors persons lug_boot safety car_class\n",
       "0  vhigh  vhigh     2       2    small    low     unacc\n",
       "1  vhigh  vhigh     2       2    small    med     unacc\n",
       "2  vhigh  vhigh     2       2    small   high     unacc\n",
       "3  vhigh  vhigh     2       2      med    low     unacc\n",
       "4  vhigh  vhigh     2       2      med    med     unacc"
      ]
     },
     "execution_count": 8,
     "metadata": {},
     "output_type": "execute_result"
    }
   ],
   "source": [
    "cars.head()"
   ]
  },
  {
   "cell_type": "code",
   "execution_count": 9,
   "id": "2c694906",
   "metadata": {},
   "outputs": [
    {
     "name": "stdout",
     "output_type": "stream",
     "text": [
      "buying       0\n",
      "maint        0\n",
      "doors        0\n",
      "persons      0\n",
      "lug_boot     0\n",
      "safety       0\n",
      "car_class    0\n",
      "dtype: int64\n"
     ]
    }
   ],
   "source": [
    "#Step3: Data Preparation\n",
    "#Check for missing data\n",
    "check_null = cars.isnull().sum()\n",
    "print(check_null)"
   ]
  },
  {
   "cell_type": "code",
   "execution_count": 10,
   "id": "b1fe8a45",
   "metadata": {},
   "outputs": [
    {
     "data": {
      "text/html": [
       "<div>\n",
       "<style scoped>\n",
       "    .dataframe tbody tr th:only-of-type {\n",
       "        vertical-align: middle;\n",
       "    }\n",
       "\n",
       "    .dataframe tbody tr th {\n",
       "        vertical-align: top;\n",
       "    }\n",
       "\n",
       "    .dataframe thead th {\n",
       "        text-align: right;\n",
       "    }\n",
       "</style>\n",
       "<table border=\"1\" class=\"dataframe\">\n",
       "  <thead>\n",
       "    <tr style=\"text-align: right;\">\n",
       "      <th></th>\n",
       "      <th>buying</th>\n",
       "      <th>maint</th>\n",
       "      <th>doors</th>\n",
       "      <th>persons</th>\n",
       "      <th>lug_boot</th>\n",
       "      <th>safety</th>\n",
       "      <th>car_class</th>\n",
       "    </tr>\n",
       "  </thead>\n",
       "  <tbody>\n",
       "    <tr>\n",
       "      <th>count</th>\n",
       "      <td>1728</td>\n",
       "      <td>1728</td>\n",
       "      <td>1728</td>\n",
       "      <td>1728</td>\n",
       "      <td>1728</td>\n",
       "      <td>1728</td>\n",
       "      <td>1728</td>\n",
       "    </tr>\n",
       "    <tr>\n",
       "      <th>unique</th>\n",
       "      <td>4</td>\n",
       "      <td>4</td>\n",
       "      <td>4</td>\n",
       "      <td>3</td>\n",
       "      <td>3</td>\n",
       "      <td>3</td>\n",
       "      <td>4</td>\n",
       "    </tr>\n",
       "    <tr>\n",
       "      <th>top</th>\n",
       "      <td>vhigh</td>\n",
       "      <td>vhigh</td>\n",
       "      <td>2</td>\n",
       "      <td>2</td>\n",
       "      <td>small</td>\n",
       "      <td>low</td>\n",
       "      <td>unacc</td>\n",
       "    </tr>\n",
       "    <tr>\n",
       "      <th>freq</th>\n",
       "      <td>432</td>\n",
       "      <td>432</td>\n",
       "      <td>432</td>\n",
       "      <td>576</td>\n",
       "      <td>576</td>\n",
       "      <td>576</td>\n",
       "      <td>1210</td>\n",
       "    </tr>\n",
       "  </tbody>\n",
       "</table>\n",
       "</div>"
      ],
      "text/plain": [
       "       buying  maint doors persons lug_boot safety car_class\n",
       "count    1728   1728  1728    1728     1728   1728      1728\n",
       "unique      4      4     4       3        3      3         4\n",
       "top     vhigh  vhigh     2       2    small    low     unacc\n",
       "freq      432    432   432     576      576    576      1210"
      ]
     },
     "execution_count": 10,
     "metadata": {},
     "output_type": "execute_result"
    }
   ],
   "source": [
    "cars.describe()"
   ]
  },
  {
   "cell_type": "code",
   "execution_count": 11,
   "id": "ba71c227",
   "metadata": {},
   "outputs": [
    {
     "data": {
      "text/plain": [
       "buying       object\n",
       "maint        object\n",
       "doors        object\n",
       "persons      object\n",
       "lug_boot     object\n",
       "safety       object\n",
       "car_class    object\n",
       "dtype: object"
      ]
     },
     "execution_count": 11,
     "metadata": {},
     "output_type": "execute_result"
    }
   ],
   "source": [
    "cars.dtypes"
   ]
  },
  {
   "cell_type": "code",
   "execution_count": 12,
   "id": "267c68cb",
   "metadata": {},
   "outputs": [],
   "source": [
    "#Remove column not required for prediction model\n",
    "cars.drop(columns=['persons'], inplace = True)"
   ]
  },
  {
   "cell_type": "code",
   "execution_count": 13,
   "id": "6cf66874",
   "metadata": {},
   "outputs": [
    {
     "name": "stdout",
     "output_type": "stream",
     "text": [
      "      buying  maint doors lug_boot safety car_class\n",
      "0         10  vhigh     2    small    low     unacc\n",
      "1         10  vhigh     2    small    med     unacc\n",
      "2         10  vhigh     2    small   high     unacc\n",
      "3         10  vhigh     2      med    low     unacc\n",
      "4         10  vhigh     2      med    med     unacc\n",
      "...      ...    ...   ...      ...    ...       ...\n",
      "1723       1    low     5      med    med      good\n",
      "1724       1    low     5      med   high     vgood\n",
      "1725       1    low     5      big    low     unacc\n",
      "1726       1    low     5      big    med      good\n",
      "1727       1    low     5      big   high     vgood\n",
      "\n",
      "[1728 rows x 6 columns]\n"
     ]
    }
   ],
   "source": [
    "#Convert buying price to codes, replace string values for doors\n",
    "cars['buying'].replace(to_replace=['vhigh', 'high', 'med','low'], value=[10, 7, 4, 1], inplace=True)\n",
    "cars['doors'].replace(to_replace=['5more'], value=[5], inplace=True)\n",
    "print(cars)"
   ]
  },
  {
   "cell_type": "code",
   "execution_count": 14,
   "id": "2b2faa03",
   "metadata": {},
   "outputs": [
    {
     "data": {
      "text/html": [
       "<div>\n",
       "<style scoped>\n",
       "    .dataframe tbody tr th:only-of-type {\n",
       "        vertical-align: middle;\n",
       "    }\n",
       "\n",
       "    .dataframe tbody tr th {\n",
       "        vertical-align: top;\n",
       "    }\n",
       "\n",
       "    .dataframe thead th {\n",
       "        text-align: right;\n",
       "    }\n",
       "</style>\n",
       "<table border=\"1\" class=\"dataframe\">\n",
       "  <thead>\n",
       "    <tr style=\"text-align: right;\">\n",
       "      <th></th>\n",
       "      <th>maint_high</th>\n",
       "      <th>maint_low</th>\n",
       "      <th>maint_med</th>\n",
       "      <th>maint_vhigh</th>\n",
       "      <th>doors_5</th>\n",
       "      <th>doors_2</th>\n",
       "      <th>doors_3</th>\n",
       "      <th>doors_4</th>\n",
       "      <th>lug_boot_big</th>\n",
       "      <th>lug_boot_med</th>\n",
       "      <th>lug_boot_small</th>\n",
       "      <th>safety_high</th>\n",
       "      <th>safety_low</th>\n",
       "      <th>safety_med</th>\n",
       "      <th>car_class_acc</th>\n",
       "      <th>car_class_good</th>\n",
       "      <th>car_class_unacc</th>\n",
       "      <th>car_class_vgood</th>\n",
       "    </tr>\n",
       "  </thead>\n",
       "  <tbody>\n",
       "    <tr>\n",
       "      <th>0</th>\n",
       "      <td>0</td>\n",
       "      <td>0</td>\n",
       "      <td>0</td>\n",
       "      <td>1</td>\n",
       "      <td>0</td>\n",
       "      <td>1</td>\n",
       "      <td>0</td>\n",
       "      <td>0</td>\n",
       "      <td>0</td>\n",
       "      <td>0</td>\n",
       "      <td>1</td>\n",
       "      <td>0</td>\n",
       "      <td>1</td>\n",
       "      <td>0</td>\n",
       "      <td>0</td>\n",
       "      <td>0</td>\n",
       "      <td>1</td>\n",
       "      <td>0</td>\n",
       "    </tr>\n",
       "    <tr>\n",
       "      <th>1</th>\n",
       "      <td>0</td>\n",
       "      <td>0</td>\n",
       "      <td>0</td>\n",
       "      <td>1</td>\n",
       "      <td>0</td>\n",
       "      <td>1</td>\n",
       "      <td>0</td>\n",
       "      <td>0</td>\n",
       "      <td>0</td>\n",
       "      <td>0</td>\n",
       "      <td>1</td>\n",
       "      <td>0</td>\n",
       "      <td>0</td>\n",
       "      <td>1</td>\n",
       "      <td>0</td>\n",
       "      <td>0</td>\n",
       "      <td>1</td>\n",
       "      <td>0</td>\n",
       "    </tr>\n",
       "    <tr>\n",
       "      <th>2</th>\n",
       "      <td>0</td>\n",
       "      <td>0</td>\n",
       "      <td>0</td>\n",
       "      <td>1</td>\n",
       "      <td>0</td>\n",
       "      <td>1</td>\n",
       "      <td>0</td>\n",
       "      <td>0</td>\n",
       "      <td>0</td>\n",
       "      <td>0</td>\n",
       "      <td>1</td>\n",
       "      <td>1</td>\n",
       "      <td>0</td>\n",
       "      <td>0</td>\n",
       "      <td>0</td>\n",
       "      <td>0</td>\n",
       "      <td>1</td>\n",
       "      <td>0</td>\n",
       "    </tr>\n",
       "    <tr>\n",
       "      <th>3</th>\n",
       "      <td>0</td>\n",
       "      <td>0</td>\n",
       "      <td>0</td>\n",
       "      <td>1</td>\n",
       "      <td>0</td>\n",
       "      <td>1</td>\n",
       "      <td>0</td>\n",
       "      <td>0</td>\n",
       "      <td>0</td>\n",
       "      <td>1</td>\n",
       "      <td>0</td>\n",
       "      <td>0</td>\n",
       "      <td>1</td>\n",
       "      <td>0</td>\n",
       "      <td>0</td>\n",
       "      <td>0</td>\n",
       "      <td>1</td>\n",
       "      <td>0</td>\n",
       "    </tr>\n",
       "    <tr>\n",
       "      <th>4</th>\n",
       "      <td>0</td>\n",
       "      <td>0</td>\n",
       "      <td>0</td>\n",
       "      <td>1</td>\n",
       "      <td>0</td>\n",
       "      <td>1</td>\n",
       "      <td>0</td>\n",
       "      <td>0</td>\n",
       "      <td>0</td>\n",
       "      <td>1</td>\n",
       "      <td>0</td>\n",
       "      <td>0</td>\n",
       "      <td>0</td>\n",
       "      <td>1</td>\n",
       "      <td>0</td>\n",
       "      <td>0</td>\n",
       "      <td>1</td>\n",
       "      <td>0</td>\n",
       "    </tr>\n",
       "  </tbody>\n",
       "</table>\n",
       "</div>"
      ],
      "text/plain": [
       "   maint_high  maint_low  maint_med  maint_vhigh  doors_5  doors_2  doors_3  \\\n",
       "0           0          0          0            1        0        1        0   \n",
       "1           0          0          0            1        0        1        0   \n",
       "2           0          0          0            1        0        1        0   \n",
       "3           0          0          0            1        0        1        0   \n",
       "4           0          0          0            1        0        1        0   \n",
       "\n",
       "   doors_4  lug_boot_big  lug_boot_med  lug_boot_small  safety_high  \\\n",
       "0        0             0             0               1            0   \n",
       "1        0             0             0               1            0   \n",
       "2        0             0             0               1            1   \n",
       "3        0             0             1               0            0   \n",
       "4        0             0             1               0            0   \n",
       "\n",
       "   safety_low  safety_med  car_class_acc  car_class_good  car_class_unacc  \\\n",
       "0           1           0              0               0                1   \n",
       "1           0           1              0               0                1   \n",
       "2           0           0              0               0                1   \n",
       "3           1           0              0               0                1   \n",
       "4           0           1              0               0                1   \n",
       "\n",
       "   car_class_vgood  \n",
       "0                0  \n",
       "1                0  \n",
       "2                0  \n",
       "3                0  \n",
       "4                0  "
      ]
     },
     "execution_count": 14,
     "metadata": {},
     "output_type": "execute_result"
    }
   ],
   "source": [
    "#Step 4: Build training model\n",
    "#Convert categorical data into dummy or indicator variables\n",
    "#X = predictor variable\n",
    "X = cars[['maint', 'doors', 'lug_boot','safety','car_class']]\n",
    "X = pd.get_dummies(data=X)\n",
    "X.head()"
   ]
  },
  {
   "cell_type": "code",
   "execution_count": 15,
   "id": "82f1e0ae",
   "metadata": {},
   "outputs": [
    {
     "data": {
      "text/plain": [
       "0       10\n",
       "1       10\n",
       "2       10\n",
       "3       10\n",
       "4       10\n",
       "        ..\n",
       "1723     1\n",
       "1724     1\n",
       "1725     1\n",
       "1726     1\n",
       "1727     1\n",
       "Name: buying, Length: 1728, dtype: int64"
      ]
     },
     "execution_count": 15,
     "metadata": {},
     "output_type": "execute_result"
    }
   ],
   "source": [
    "#Y = target variable\n",
    "Y = cars['buying']\n",
    "Y"
   ]
  },
  {
   "cell_type": "code",
   "execution_count": 16,
   "id": "6fd51733",
   "metadata": {},
   "outputs": [
    {
     "name": "stdout",
     "output_type": "stream",
     "text": [
      "(1036, 18)\n",
      "(692, 18)\n",
      "(1036,)\n",
      "(692,)\n"
     ]
    }
   ],
   "source": [
    "#Create train and test data\n",
    "X_train, X_test, y_train, y_test = train_test_split(X, Y, test_size=0.4, random_state=101)\n",
    "print(X_train.shape)\n",
    "print(X_test.shape)\n",
    "print(y_train.shape)\n",
    "print(y_test.shape)"
   ]
  },
  {
   "cell_type": "code",
   "execution_count": 17,
   "id": "25f3edc3",
   "metadata": {},
   "outputs": [
    {
     "data": {
      "text/plain": [
       "LinearRegression()"
      ]
     },
     "execution_count": 17,
     "metadata": {},
     "output_type": "execute_result"
    }
   ],
   "source": [
    "#Fit training data into linear regression model\n",
    "model = LinearRegression()\n",
    "model.fit(X_train,y_train)"
   ]
  },
  {
   "cell_type": "code",
   "execution_count": 18,
   "id": "a54b59a5",
   "metadata": {},
   "outputs": [
    {
     "name": "stdout",
     "output_type": "stream",
     "text": [
      "-585637056117938.8\n"
     ]
    }
   ],
   "source": [
    "#print the intercept\n",
    "print(model.intercept_)"
   ]
  },
  {
   "cell_type": "code",
   "execution_count": 19,
   "id": "f7833931",
   "metadata": {},
   "outputs": [
    {
     "data": {
      "text/html": [
       "<div>\n",
       "<style scoped>\n",
       "    .dataframe tbody tr th:only-of-type {\n",
       "        vertical-align: middle;\n",
       "    }\n",
       "\n",
       "    .dataframe tbody tr th {\n",
       "        vertical-align: top;\n",
       "    }\n",
       "\n",
       "    .dataframe thead th {\n",
       "        text-align: right;\n",
       "    }\n",
       "</style>\n",
       "<table border=\"1\" class=\"dataframe\">\n",
       "  <thead>\n",
       "    <tr style=\"text-align: right;\">\n",
       "      <th></th>\n",
       "      <th>Coefficient</th>\n",
       "    </tr>\n",
       "  </thead>\n",
       "  <tbody>\n",
       "    <tr>\n",
       "      <th>maint_high</th>\n",
       "      <td>6.108197e+13</td>\n",
       "    </tr>\n",
       "    <tr>\n",
       "      <th>maint_low</th>\n",
       "      <td>6.108197e+13</td>\n",
       "    </tr>\n",
       "    <tr>\n",
       "      <th>maint_med</th>\n",
       "      <td>6.108197e+13</td>\n",
       "    </tr>\n",
       "    <tr>\n",
       "      <th>maint_vhigh</th>\n",
       "      <td>6.108197e+13</td>\n",
       "    </tr>\n",
       "    <tr>\n",
       "      <th>doors_5</th>\n",
       "      <td>-1.082787e+14</td>\n",
       "    </tr>\n",
       "    <tr>\n",
       "      <th>doors_2</th>\n",
       "      <td>-1.082787e+14</td>\n",
       "    </tr>\n",
       "    <tr>\n",
       "      <th>doors_3</th>\n",
       "      <td>-1.082787e+14</td>\n",
       "    </tr>\n",
       "    <tr>\n",
       "      <th>doors_4</th>\n",
       "      <td>-1.082787e+14</td>\n",
       "    </tr>\n",
       "    <tr>\n",
       "      <th>lug_boot_big</th>\n",
       "      <td>3.657272e+14</td>\n",
       "    </tr>\n",
       "    <tr>\n",
       "      <th>lug_boot_med</th>\n",
       "      <td>3.657272e+14</td>\n",
       "    </tr>\n",
       "    <tr>\n",
       "      <th>lug_boot_small</th>\n",
       "      <td>3.657272e+14</td>\n",
       "    </tr>\n",
       "    <tr>\n",
       "      <th>safety_high</th>\n",
       "      <td>3.208168e+14</td>\n",
       "    </tr>\n",
       "    <tr>\n",
       "      <th>safety_low</th>\n",
       "      <td>3.208168e+14</td>\n",
       "    </tr>\n",
       "    <tr>\n",
       "      <th>safety_med</th>\n",
       "      <td>3.208168e+14</td>\n",
       "    </tr>\n",
       "    <tr>\n",
       "      <th>car_class_acc</th>\n",
       "      <td>-5.371023e+13</td>\n",
       "    </tr>\n",
       "    <tr>\n",
       "      <th>car_class_good</th>\n",
       "      <td>-5.371023e+13</td>\n",
       "    </tr>\n",
       "    <tr>\n",
       "      <th>car_class_unacc</th>\n",
       "      <td>-5.371023e+13</td>\n",
       "    </tr>\n",
       "    <tr>\n",
       "      <th>car_class_vgood</th>\n",
       "      <td>-5.371023e+13</td>\n",
       "    </tr>\n",
       "  </tbody>\n",
       "</table>\n",
       "</div>"
      ],
      "text/plain": [
       "                  Coefficient\n",
       "maint_high       6.108197e+13\n",
       "maint_low        6.108197e+13\n",
       "maint_med        6.108197e+13\n",
       "maint_vhigh      6.108197e+13\n",
       "doors_5         -1.082787e+14\n",
       "doors_2         -1.082787e+14\n",
       "doors_3         -1.082787e+14\n",
       "doors_4         -1.082787e+14\n",
       "lug_boot_big     3.657272e+14\n",
       "lug_boot_med     3.657272e+14\n",
       "lug_boot_small   3.657272e+14\n",
       "safety_high      3.208168e+14\n",
       "safety_low       3.208168e+14\n",
       "safety_med       3.208168e+14\n",
       "car_class_acc   -5.371023e+13\n",
       "car_class_good  -5.371023e+13\n",
       "car_class_unacc -5.371023e+13\n",
       "car_class_vgood -5.371023e+13"
      ]
     },
     "execution_count": 19,
     "metadata": {},
     "output_type": "execute_result"
    }
   ],
   "source": [
    "#Find coefficient for each predictors\n",
    "# A positive sign indicates that as the predictor variable increases, the Target variable also increases.\n",
    "# A negative sign indicates that as the predictor variable increases, the Target variable decreases.\n",
    "coeff_parameter = pd.DataFrame(model.coef_,X.columns,columns=['Coefficient'])\n",
    "coeff_parameter"
   ]
  },
  {
   "cell_type": "code",
   "execution_count": 20,
   "id": "d6fadb2a",
   "metadata": {},
   "outputs": [
    {
     "data": {
      "text/plain": [
       "array([6.5  , 6.75 , 7.   , 5.5  , 5.5  , 6.5  , 6.5  , 6.5  , 7.5  ,\n",
       "       5.75 , 5.   , 6.   , 7.   , 6.   , 6.5  , 5.875, 6.   , 6.   ,\n",
       "       5.   , 7.   , 6.   , 6.25 , 7.25 , 6.75 , 5.625, 4.5  , 4.75 ,\n",
       "       6.75 , 6.25 , 5.75 , 5.25 , 5.75 , 6.   , 5.   , 6.   , 5.   ,\n",
       "       6.25 , 6.5  , 7.25 , 4.5  , 4.75 , 7.25 , 6.5  , 5.   , 4.75 ,\n",
       "       5.75 , 5.25 , 5.   , 5.25 , 5.5  , 4.5  , 5.25 , 6.75 , 5.5  ,\n",
       "       5.25 , 5.25 , 4.75 , 6.   , 7.75 , 6.5  , 5.5  , 5.   , 2.   ,\n",
       "       6.   , 5.375, 4.75 , 5.875, 7.   , 7.25 , 6.5  , 5.25 , 6.   ,\n",
       "       7.25 , 5.5  , 7.   , 4.875, 6.   , 1.5  , 6.25 , 6.25 , 6.25 ,\n",
       "       6.75 , 5.25 , 5.   , 6.5  , 6.5  , 1.25 , 4.5  , 5.5  , 5.25 ,\n",
       "       7.75 , 6.25 , 2.   , 6.25 , 1.5  , 6.   , 6.25 , 2.375, 4.5  ,\n",
       "       6.75 , 2.   , 6.   , 6.5  , 5.25 , 5.875, 4.5  , 7.25 , 6.   ,\n",
       "       6.75 , 1.875, 5.25 , 5.75 , 4.5  , 5.25 , 5.25 , 6.5  , 6.   ,\n",
       "       5.75 , 6.75 , 5.25 , 7.25 , 4.75 , 5.25 , 6.75 , 6.   , 6.5  ,\n",
       "       6.25 , 2.   , 5.25 , 7.25 , 6.375, 2.25 , 5.5  , 4.5  , 5.375,\n",
       "       7.25 , 6.25 , 5.5  , 4.75 , 4.75 , 6.   , 5.5  , 5.   , 1.25 ,\n",
       "       4.75 , 4.75 , 5.5  , 5.875, 5.25 , 5.   , 5.25 , 5.375, 6.75 ,\n",
       "       6.75 , 6.75 , 6.75 , 5.125, 6.   , 7.25 , 6.375, 6.   , 5.   ,\n",
       "       6.75 , 6.   , 7.5  , 6.75 , 5.75 , 6.25 , 6.25 , 5.375, 6.5  ,\n",
       "       7.25 , 5.5  , 6.25 , 6.   , 7.25 , 5.5  , 5.5  , 5.5  , 2.25 ,\n",
       "       6.75 , 6.5  , 5.75 , 5.75 , 5.   , 6.25 , 6.5  , 5.875, 4.5  ,\n",
       "       5.25 , 4.5  , 6.25 , 5.   , 4.5  , 6.25 , 4.75 , 5.875, 6.75 ,\n",
       "       5.875, 6.5  , 5.25 , 5.75 , 5.25 , 7.   , 6.25 , 5.   , 4.75 ,\n",
       "       4.75 , 5.25 , 5.75 , 5.   , 6.   , 5.375, 4.5  , 5.25 , 6.75 ,\n",
       "       5.75 , 4.75 , 5.25 , 5.   , 7.25 , 6.   , 7.25 , 6.75 , 6.   ,\n",
       "       5.75 , 5.875, 5.5  , 5.   , 6.75 , 2.375, 6.75 , 6.75 , 6.   ,\n",
       "       1.75 , 6.75 , 4.5  , 5.   , 6.5  , 2.125, 5.75 , 5.75 , 6.25 ,\n",
       "       5.5  , 6.25 , 7.   , 6.5  , 5.   , 5.25 , 5.75 , 5.   , 5.875,\n",
       "       5.5  , 5.25 , 6.75 , 5.   , 7.   , 5.75 , 5.375, 5.   , 6.25 ,\n",
       "       4.75 , 6.   , 6.25 , 5.625, 5.125, 5.75 , 6.5  , 2.375, 5.75 ,\n",
       "       6.   , 4.75 , 4.5  , 5.75 , 1.25 , 5.625, 6.5  , 6.25 , 6.75 ,\n",
       "       5.   , 5.   , 7.5  , 6.75 , 5.5  , 6.75 , 5.75 , 4.75 , 7.5  ,\n",
       "       6.25 , 5.5  , 4.75 , 4.75 , 7.25 , 5.   , 7.   , 5.875, 6.75 ,\n",
       "       4.5  , 4.5  , 4.75 , 6.5  , 6.25 , 7.25 , 5.25 , 5.5  , 1.875,\n",
       "       1.625, 1.5  , 6.   , 6.   , 6.25 , 5.5  , 5.5  , 4.875, 6.25 ,\n",
       "       5.75 , 5.875, 5.25 , 1.375, 6.   , 4.875, 5.25 , 5.25 , 6.5  ,\n",
       "       5.5  , 1.5  , 5.   , 6.25 , 6.25 , 6.   , 5.75 , 6.   , 5.75 ,\n",
       "       5.75 , 7.   , 2.25 , 5.375, 6.75 , 6.   , 6.25 , 5.5  , 6.75 ,\n",
       "       1.5  , 6.   , 6.25 , 5.875, 7.25 , 5.   , 4.5  , 5.25 , 5.   ,\n",
       "       6.   , 6.5  , 4.875, 7.25 , 5.75 , 5.625, 5.75 , 5.5  , 5.5  ,\n",
       "       5.5  , 6.5  , 5.5  , 5.   , 7.   , 6.   , 4.625, 4.75 , 5.   ,\n",
       "       5.75 , 5.5  , 5.75 , 5.375, 5.25 , 6.75 , 5.5  , 5.5  , 6.5  ,\n",
       "       6.5  , 4.75 , 5.5  , 5.   , 5.25 , 6.25 , 6.   , 5.75 , 6.75 ,\n",
       "       6.5  , 6.5  , 4.875, 5.5  , 7.25 , 5.5  , 5.625, 5.   , 6.25 ,\n",
       "       5.75 , 5.125, 4.75 , 5.875, 4.75 , 6.   , 6.5  , 6.75 , 6.25 ,\n",
       "       6.75 , 6.25 , 7.   , 6.375, 1.75 , 7.   , 5.   , 5.25 , 1.5  ,\n",
       "       2.75 , 5.375, 6.25 , 4.75 , 6.75 , 2.75 , 6.75 , 5.   , 7.   ,\n",
       "       5.75 , 5.   , 5.   , 6.5  , 7.25 , 1.625, 6.5  , 5.   , 5.   ,\n",
       "       1.75 , 5.   , 5.5  , 5.75 , 6.75 , 2.   , 6.5  , 6.25 , 1.75 ,\n",
       "       4.75 , 5.75 , 5.5  , 4.75 , 5.   , 5.75 , 5.   , 5.625, 5.25 ,\n",
       "       5.625, 4.75 , 6.75 , 4.75 , 5.5  , 5.75 , 5.5  , 6.   , 6.   ,\n",
       "       4.625, 5.75 , 5.75 , 6.   , 5.   , 5.25 , 1.625, 5.   , 4.75 ,\n",
       "       7.   , 4.75 , 5.5  , 5.   , 5.125, 6.25 , 5.75 , 5.25 , 5.25 ,\n",
       "       5.5  , 6.   , 1.5  , 5.   , 6.25 , 4.75 , 4.75 , 7.   , 7.25 ,\n",
       "       5.25 , 4.75 , 5.   , 4.75 , 7.   , 2.25 , 5.25 , 4.5  , 1.25 ,\n",
       "       5.375, 7.25 , 5.75 , 6.5  , 5.125, 5.125, 2.   , 6.25 , 6.25 ,\n",
       "       7.   , 5.5  , 6.5  , 4.75 , 6.   , 5.   , 5.75 , 6.25 , 6.5  ,\n",
       "       6.25 , 6.5  , 6.   , 7.5  , 6.5  , 6.5  , 6.   , 5.75 , 6.   ,\n",
       "       5.75 , 6.75 , 7.25 , 5.125, 7.25 , 5.   , 4.625, 5.   , 6.25 ,\n",
       "       6.5  , 5.75 , 5.5  , 6.25 , 1.5  , 6.25 , 4.5  , 6.5  , 7.   ,\n",
       "       1.5  , 4.75 , 5.375, 5.   , 5.   , 4.5  , 6.75 , 4.5  , 6.   ,\n",
       "       5.   , 6.5  , 6.75 , 2.125, 4.75 , 4.75 , 6.   , 5.   , 4.75 ,\n",
       "       2.   , 5.25 , 2.25 , 5.25 , 5.25 , 6.5  , 6.5  , 5.75 , 5.5  ,\n",
       "       5.5  , 2.   , 6.75 , 6.   , 2.125, 5.25 , 5.   , 5.625, 6.5  ,\n",
       "       5.75 , 5.875, 4.75 , 5.125, 4.875, 6.   , 5.75 , 5.5  , 7.25 ,\n",
       "       6.5  , 5.25 , 6.25 , 6.75 , 5.75 , 6.25 , 5.75 , 6.25 , 4.75 ,\n",
       "       5.   , 5.625, 6.25 , 2.5  , 6.25 , 6.   , 5.75 , 5.   , 6.75 ,\n",
       "       6.   , 4.875, 5.5  , 6.   , 6.5  , 5.25 , 6.25 , 2.125, 5.5  ,\n",
       "       5.5  , 6.   , 4.75 , 6.75 , 5.25 , 4.875, 4.75 , 5.375, 5.   ,\n",
       "       4.5  , 5.25 , 1.875, 5.5  , 7.25 , 5.   , 6.5  , 1.5  , 4.75 ,\n",
       "       5.75 , 6.25 , 5.75 , 6.5  , 6.   , 5.   , 5.   , 5.125, 5.   ,\n",
       "       6.25 , 7.25 , 6.   , 5.75 , 5.5  , 5.5  , 5.25 , 5.   , 6.25 ,\n",
       "       1.75 , 6.75 , 6.   , 5.25 , 5.125, 5.125, 5.5  , 5.   , 5.25 ,\n",
       "       5.625, 5.   , 5.75 , 5.25 , 2.   , 6.25 , 6.   , 6.25 , 6.75 ,\n",
       "       5.5  , 2.25 , 1.375, 5.   , 5.25 , 2.   , 6.75 , 6.75 , 5.5  ,\n",
       "       5.   , 5.75 , 5.5  , 5.375, 5.5  , 5.   , 5.5  , 5.25 , 5.25 ,\n",
       "       5.5  , 5.   , 7.25 , 7.   , 5.75 , 5.25 , 6.25 , 5.75 ])"
      ]
     },
     "execution_count": 20,
     "metadata": {},
     "output_type": "execute_result"
    }
   ],
   "source": [
    "#Fit test data into model\n",
    "predictions = model.predict(X_test)\n",
    "predictions"
   ]
  },
  {
   "cell_type": "code",
   "execution_count": 21,
   "id": "2497102f",
   "metadata": {},
   "outputs": [
    {
     "data": {
      "text/plain": [
       "<AxesSubplot:xlabel='buying'>"
      ]
     },
     "execution_count": 21,
     "metadata": {},
     "output_type": "execute_result"
    },
    {
     "data": {
      "image/png": "[encoded data removed]",
      "text/plain": [
       "<Figure size 432x288 with 1 Axes>"
      ]
     },
     "metadata": {
      "needs_background": "light"
     },
     "output_type": "display_data"
    }
   ],
   "source": [
    "#Plot graph for test data\n",
    "sns.regplot(y_test,predictions)"
   ]
  },
  {
   "cell_type": "code",
   "execution_count": 22,
   "id": "3142aa3a",
   "metadata": {},
   "outputs": [
    {
     "name": "stderr",
     "output_type": "stream",
     "text": [
      "/usr/local/lib/python3.9/site-packages/sklearn/base.py:445: UserWarning: X does not have valid feature names, but LinearRegression was fitted with feature names\n",
      "  warnings.warn(\n"
     ]
    },
    {
     "data": {
      "text/plain": [
       "array([1.75])"
      ]
     },
     "execution_count": 22,
     "metadata": {},
     "output_type": "execute_result"
    }
   ],
   "source": [
    "#Predict output for specific input parameters\n",
    "# Maintenance = High\n",
    "# Number of doors = 4\n",
    "# Lug Boot Size = Big\n",
    "# Safety = High\n",
    "# Class Value = Good\n",
    "\n",
    "predicted_buying = model.predict([[1, 0, 0, 0, 0, 0, 0, 1, 1, 0, 0, 1, 0, 0, 0, 1, 0, 0]])\n",
    "predicted_buying #i.e. Predicted buying price is low "
   ]
  },
  {
   "cell_type": "code",
   "execution_count": 23,
   "id": "d8622e8c",
   "metadata": {},
   "outputs": [
    {
     "data": {
      "text/plain": [
       "10.070199602601155"
      ]
     },
     "execution_count": 23,
     "metadata": {},
     "output_type": "execute_result"
    }
   ],
   "source": [
    "#Find mean square error,the lower the MSE the higher the accuracy of prediction\n",
    "y_pred = model.predict(X_test)\n",
    "mean_squared_error(y_test,y_pred)"
   ]
  },
  {
   "cell_type": "code",
   "execution_count": 24,
   "id": "bb156850",
   "metadata": {},
   "outputs": [
    {
     "data": {
      "text/plain": [
       "3.1733577804277213"
      ]
     },
     "execution_count": 24,
     "metadata": {},
     "output_type": "execute_result"
    }
   ],
   "source": [
    "np.sqrt(mean_squared_error(y_test, y_pred))"
   ]
  }
 ],
 "metadata": {
  "kernelspec": {
   "display_name": "Python 3 (ipykernel)",
   "language": "python",
   "name": "python3"
  },
  "language_info": {
   "codemirror_mode": {
    "name": "ipython",
    "version": 3
   },
   "file_extension": ".py",
   "mimetype": "text/x-python",
   "name": "python",
   "nbconvert_exporter": "python",
   "pygments_lexer": "ipython3",
   "version": "3.9.9"
  }
 },
 "nbformat": 4,
 "nbformat_minor": 5
}
